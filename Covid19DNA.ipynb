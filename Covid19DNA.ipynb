{
 "cells": [
  {
   "cell_type": "code",
   "execution_count": null,
   "metadata": {},
   "outputs": [],
   "source": [
    "# ID MT385497.1\n",
    "# https://www.ncbi.nlm.nih.gov/nuccore/MT385497.1?report=fasta&log$=seqview\n"
   ]
  },
  {
   "cell_type": "markdown",
   "metadata": {},
   "source": [
    "#### Outline\n",
    "+ Reading\n",
    "+ Sequence Analysis\n",
    "+ Freq N,AA,GC,AT content\n",
    "+ Protein Synthesis\n"
   ]
  },
  {
   "cell_type": "code",
   "execution_count": 2,
   "metadata": {},
   "outputs": [],
   "source": [
    "from Bio import SeqIO"
   ]
  },
  {
   "cell_type": "code",
   "execution_count": 3,
   "metadata": {},
   "outputs": [],
   "source": [
    "# Reading fasta file\n",
    "covid_record = SeqIO.read(\"Covid_sequence_MT385497.fasta\",\"fasta\")\n"
   ]
  },
  {
   "cell_type": "code",
   "execution_count": 4,
   "metadata": {},
   "outputs": [
    {
     "data": {
      "text/plain": [
       "SeqRecord(seq=Seq('CAGGTAACAAACCAACCAACTTTCGATCTCTTGTAGATCTGTTCTCTAAACGAA...TTT'), id='MT385497.1', name='MT385497.1', description='MT385497.1 Severe acute respiratory syndrome coronavirus 2 isolate SARS-CoV-2/human/USA/CA-CZB017/2020 ORF1ab polyprotein (ORF1ab), ORF1a polyprotein (ORF1ab), surface glycoprotein (S), ORF3a protein (ORF3a), envelope protein (E), membrane glycoprotein (M), ORF6 protein (ORF6), ORF7a protein (ORF7a), ORF7b (ORF7b), ORF8 protein (ORF8), nucleocapsid phosphoprotein (N), and ORF10 protein (ORF10) genes, complete cds', dbxrefs=[])"
      ]
     },
     "execution_count": 4,
     "metadata": {},
     "output_type": "execute_result"
    }
   ],
   "source": [
    "covid_record"
   ]
  },
  {
   "cell_type": "code",
   "execution_count": 5,
   "metadata": {},
   "outputs": [],
   "source": [
    "# Seq\n",
    "covid_dna = covid_record.seq"
   ]
  },
  {
   "cell_type": "code",
   "execution_count": 6,
   "metadata": {},
   "outputs": [
    {
     "data": {
      "text/plain": [
       "Seq('CAGGTAACAAACCAACCAACTTTCGATCTCTTGTAGATCTGTTCTCTAAACGAA...TTT')"
      ]
     },
     "execution_count": 6,
     "metadata": {},
     "output_type": "execute_result"
    }
   ],
   "source": [
    "covid_dna"
   ]
  },
  {
   "cell_type": "code",
   "execution_count": 7,
   "metadata": {},
   "outputs": [
    {
     "data": {
      "text/plain": [
       "29803"
      ]
     },
     "execution_count": 7,
     "metadata": {},
     "output_type": "execute_result"
    }
   ],
   "source": [
    "# lenght of DNA\n",
    "len(covid_dna)"
   ]
  },
  {
   "cell_type": "code",
   "execution_count": 8,
   "metadata": {},
   "outputs": [],
   "source": [
    "# Transcription\n",
    "# DNA to mRNA\n",
    "covid_mrna = covid_dna.transcribe()"
   ]
  },
  {
   "cell_type": "code",
   "execution_count": 9,
   "metadata": {},
   "outputs": [
    {
     "data": {
      "text/plain": [
       "Seq('CAGGUAACAAACCAACCAACUUUCGAUCUCUUGUAGAUCUGUUCUCUAAACGAA...UUU')"
      ]
     },
     "execution_count": 9,
     "metadata": {},
     "output_type": "execute_result"
    }
   ],
   "source": [
    "covid_mrna"
   ]
  },
  {
   "cell_type": "code",
   "execution_count": 10,
   "metadata": {},
   "outputs": [
    {
     "name": "stderr",
     "output_type": "stream",
     "text": [
      "/Users/kdonkor/opt/anaconda3/lib/python3.8/site-packages/Bio/Seq.py:2334: BiopythonWarning: Partial codon, len(sequence) not a multiple of three. Explicitly trim the sequence or add trailing N before translation. This may become an error in future.\n",
      "  warnings.warn(\n"
     ]
    }
   ],
   "source": [
    "# Translation\n",
    "# mRNA to AA\n",
    "covid_protein = covid_mrna.translate()"
   ]
  },
  {
   "cell_type": "code",
   "execution_count": 11,
   "metadata": {},
   "outputs": [
    {
     "data": {
      "text/plain": [
       "Seq('QVTNQPTFDLL*ICSLNEL*NLCGCHSAACLVHSRSIINN*LLSLTGHE*LVYL...N*F')"
      ]
     },
     "execution_count": 11,
     "metadata": {},
     "output_type": "execute_result"
    }
   ],
   "source": [
    "covid_protein"
   ]
  },
  {
   "cell_type": "markdown",
   "metadata": {},
   "source": [
    "### Sequence Analysis\n",
    "+ Frequency of N/Bases and Amino Acid"
   ]
  },
  {
   "cell_type": "code",
   "execution_count": 12,
   "metadata": {},
   "outputs": [],
   "source": [
    "# Check for N or Bases\n",
    "from collections import Counter"
   ]
  },
  {
   "cell_type": "code",
   "execution_count": 13,
   "metadata": {},
   "outputs": [],
   "source": [
    "covid_ncount = Counter(covid_dna)"
   ]
  },
  {
   "cell_type": "code",
   "execution_count": 14,
   "metadata": {},
   "outputs": [
    {
     "data": {
      "text/plain": [
       "Counter({'C': 4818, 'A': 7825, 'G': 5136, 'T': 8348, 'N': 3676})"
      ]
     },
     "execution_count": 14,
     "metadata": {},
     "output_type": "execute_result"
    }
   ],
   "source": [
    "covid_ncount"
   ]
  },
  {
   "cell_type": "code",
   "execution_count": 15,
   "metadata": {},
   "outputs": [],
   "source": [
    "# Plot\n",
    "import matplotlib.pyplot as plt"
   ]
  },
  {
   "cell_type": "code",
   "execution_count": 16,
   "metadata": {},
   "outputs": [
    {
     "data": {
      "text/plain": [
       "<BarContainer object of 5 artists>"
      ]
     },
     "execution_count": 16,
     "metadata": {},
     "output_type": "execute_result"
    },
    {
     "data": {
      "image/png": "[encoded data removed]",
      "text/plain": [
       "<Figure size 432x288 with 1 Axes>"
      ]
     },
     "metadata": {
      "needs_background": "light"
     },
     "output_type": "display_data"
    }
   ],
   "source": [
    "plt.bar(covid_ncount.keys(),covid_ncount.values())"
   ]
  },
  {
   "cell_type": "code",
   "execution_count": 17,
   "metadata": {},
   "outputs": [],
   "source": [
    "# Molecular Weight\n",
    "from Bio.SeqUtils import molecular_weight"
   ]
  },
  {
   "cell_type": "code",
   "execution_count": 20,
   "metadata": {},
   "outputs": [
    {
     "data": {
      "text/plain": [
       "8074343.12620062"
      ]
     },
     "execution_count": 20,
     "metadata": {},
     "output_type": "execute_result"
    }
   ],
   "source": [
    "#molecular weight will not be calculated with N so you have the replace N with emptiness\n",
    "molecular_weight(str(covid_dna).replace('N',\"\"))"
   ]
  },
  {
   "cell_type": "markdown",
   "metadata": {},
   "source": [
    "# DNA composition\n",
    "+ GC Content\n",
    "+ AT Content"
   ]
  },
  {
   "cell_type": "code",
   "execution_count": 21,
   "metadata": {},
   "outputs": [],
   "source": [
    "from Bio.SeqUtils import GC,GC123,GC_skew,xGC_skew"
   ]
  },
  {
   "cell_type": "code",
   "execution_count": null,
   "metadata": {},
   "outputs": [],
   "source": [
    "# GC Content"
   ]
  },
  {
   "cell_type": "code",
   "execution_count": 22,
   "metadata": {},
   "outputs": [
    {
     "data": {
      "text/plain": [
       "33.399322215884304"
      ]
     },
     "execution_count": 22,
     "metadata": {},
     "output_type": "execute_result"
    }
   ],
   "source": [
    "GC(covid_dna)"
   ]
  },
  {
   "cell_type": "code",
   "execution_count": 23,
   "metadata": {},
   "outputs": [],
   "source": [
    "# AT Cotent\n",
    "def at_content(seq):\n",
    "    result = float(seq.count('A') + seq.count('T'))/len(seq)*100\n",
    "    return result"
   ]
  },
  {
   "cell_type": "code",
   "execution_count": 24,
   "metadata": {},
   "outputs": [
    {
     "data": {
      "text/plain": [
       "54.26634902526592"
      ]
     },
     "execution_count": 24,
     "metadata": {},
     "output_type": "execute_result"
    }
   ],
   "source": [
    "at_content(covid_dna)"
   ]
  },
  {
   "cell_type": "code",
   "execution_count": 25,
   "metadata": {
    "collapsed": true,
    "jupyter": {
     "outputs_hidden": true
    }
   },
   "outputs": [
    {
     "data": {
      "text/plain": [
       "[-0.16279069767441862,\n",
       " -0.043478260869565216,\n",
       " 0.0,\n",
       " 0.19230769230769232,\n",
       " 0.0,\n",
       " 0.16981132075471697,\n",
       " 0.1836734693877551,\n",
       " 0.045454545454545456,\n",
       " -0.125,\n",
       " 0.2558139534883721,\n",
       " -0.16129032258064516,\n",
       " 0.07317073170731707,\n",
       " 0.23809523809523808,\n",
       " -0.07317073170731707,\n",
       " 0.14285714285714285,\n",
       " 0.14285714285714285,\n",
       " -0.0967741935483871,\n",
       " 0.36,\n",
       " -0.045454545454545456,\n",
       " 0.05263157894736842,\n",
       " 0.024390243902439025,\n",
       " 0.3888888888888889,\n",
       " 0.1891891891891892,\n",
       " 0.1794871794871795,\n",
       " -0.07317073170731707,\n",
       " 0.1282051282051282,\n",
       " -0.06976744186046512,\n",
       " 0.3333333333333333,\n",
       " 0.09523809523809523,\n",
       " 0.2777777777777778,\n",
       " 1.0,\n",
       " 0.6923076923076923,\n",
       " 0.0,\n",
       " 0.5,\n",
       " 0.12195121951219512,\n",
       " 0.15,\n",
       " -0.05555555555555555,\n",
       " -0.030303030303030304,\n",
       " 0.29411764705882354,\n",
       " 0.030303030303030304,\n",
       " -0.23529411764705882,\n",
       " 0.38095238095238093,\n",
       " 0.17073170731707318,\n",
       " -0.02857142857142857,\n",
       " 0.2777777777777778,\n",
       " -0.2777777777777778,\n",
       " 0.023255813953488372,\n",
       " -0.23529411764705882,\n",
       " -0.058823529411764705,\n",
       " -0.02564102564102564,\n",
       " 0.0625,\n",
       " -0.1111111111111111,\n",
       " -0.2,\n",
       " 0.024390243902439025,\n",
       " 0.40540540540540543,\n",
       " 0.15789473684210525,\n",
       " -0.07317073170731707,\n",
       " 0.04,\n",
       " -0.29411764705882354,\n",
       " -0.058823529411764705,\n",
       " -0.03225806451612903,\n",
       " 0.08571428571428572,\n",
       " -0.1111111111111111,\n",
       " 0.3333333333333333,\n",
       " 0.09090909090909091,\n",
       " 0.11764705882352941,\n",
       " -0.02702702702702703,\n",
       " -0.10344827586206896,\n",
       " 0.0967741935483871,\n",
       " 0.043478260869565216,\n",
       " 0.0,\n",
       " -0.3684210526315789,\n",
       " 0.1891891891891892,\n",
       " 0.0625,\n",
       " 0.2903225806451613,\n",
       " 0.18518518518518517,\n",
       " 0.22580645161290322,\n",
       " -0.05555555555555555,\n",
       " 0.07692307692307693,\n",
       " 0.12195121951219512,\n",
       " -0.02857142857142857,\n",
       " -0.125,\n",
       " -0.11764705882352941,\n",
       " 0.17073170731707318,\n",
       " -0.030303030303030304,\n",
       " 0.3125,\n",
       " 0.02857142857142857,\n",
       " 0.02564102564102564,\n",
       " 0.14285714285714285,\n",
       " -0.02564102564102564,\n",
       " 0.02702702702702703,\n",
       " 0.07692307692307693,\n",
       " 0.23076923076923078,\n",
       " 0.3793103448275862,\n",
       " 0.08571428571428572,\n",
       " -1.0,\n",
       " 0.0,\n",
       " 0.0,\n",
       " -0.125,\n",
       " -0.09090909090909091,\n",
       " 0.07317073170731707,\n",
       " -0.024390243902439025,\n",
       " 0.058823529411764705,\n",
       " -0.07692307692307693,\n",
       " 0.1891891891891892,\n",
       " 0.07317073170731707,\n",
       " 0.14285714285714285,\n",
       " -0.3157894736842105,\n",
       " 0.391304347826087,\n",
       " 0.02564102564102564,\n",
       " -0.043478260869565216,\n",
       " -0.09090909090909091,\n",
       " 0.4666666666666667,\n",
       " 0.23809523809523808,\n",
       " 0.25,\n",
       " 0.23809523809523808,\n",
       " -0.05555555555555555,\n",
       " 0.21739130434782608,\n",
       " -0.13513513513513514,\n",
       " -0.05555555555555555,\n",
       " -0.022222222222222223,\n",
       " 0.24324324324324326,\n",
       " 0.16279069767441862,\n",
       " 0.05263157894736842,\n",
       " -0.21212121212121213,\n",
       " 0.0,\n",
       " 0.0,\n",
       " 0.022222222222222223,\n",
       " 0.0,\n",
       " 0.08571428571428572,\n",
       " -0.02564102564102564,\n",
       " 0.13636363636363635,\n",
       " 0.07692307692307693,\n",
       " 0.11627906976744186,\n",
       " -0.05454545454545454,\n",
       " 0.05555555555555555,\n",
       " 0.0,\n",
       " 0.0,\n",
       " 0.17647058823529413,\n",
       " 0.07692307692307693,\n",
       " 0.1,\n",
       " 0.07692307692307693,\n",
       " 0.1875,\n",
       " -0.10526315789473684,\n",
       " 0.1891891891891892,\n",
       " -0.05263157894736842,\n",
       " -0.07142857142857142,\n",
       " 0.0,\n",
       " 0.2413793103448276,\n",
       " 0.1111111111111111,\n",
       " -0.1282051282051282,\n",
       " -0.02857142857142857,\n",
       " 0.15,\n",
       " 0.02857142857142857,\n",
       " 0.17073170731707318,\n",
       " -0.16129032258064516,\n",
       " 0.11764705882352941,\n",
       " 0.14285714285714285,\n",
       " 0.1111111111111111,\n",
       " 0.045454545454545456,\n",
       " -0.14285714285714285,\n",
       " 0.0,\n",
       " 0.0,\n",
       " -0.05,\n",
       " 0.06666666666666667,\n",
       " 0.13513513513513514,\n",
       " 0.11627906976744186,\n",
       " -0.09090909090909091,\n",
       " 0.2972972972972973,\n",
       " -0.25,\n",
       " 0.05,\n",
       " -0.11627906976744186,\n",
       " 0.29411764705882354,\n",
       " 0.1282051282051282,\n",
       " -0.14285714285714285,\n",
       " 0.1875,\n",
       " 0.0,\n",
       " 0.0,\n",
       " -0.2631578947368421,\n",
       " 0.05555555555555555,\n",
       " -0.05,\n",
       " 0.08108108108108109,\n",
       " 0.19047619047619047,\n",
       " 0.02564102564102564,\n",
       " -1.0,\n",
       " 0.0,\n",
       " 0.0,\n",
       " -0.05263157894736842,\n",
       " 0.2,\n",
       " 0.16666666666666666,\n",
       " 0.07317073170731707,\n",
       " -0.09090909090909091,\n",
       " -0.6666666666666666,\n",
       " -0.0625,\n",
       " 0.13513513513513514,\n",
       " -0.08108108108108109,\n",
       " 0.21212121212121213,\n",
       " 0.2,\n",
       " 0.1794871794871795,\n",
       " 0.07692307692307693,\n",
       " 0.10526315789473684,\n",
       " 0.13333333333333333,\n",
       " 0.043478260869565216,\n",
       " 0.2727272727272727,\n",
       " 0.0967741935483871,\n",
       " 0.21428571428571427,\n",
       " 0.047619047619047616,\n",
       " 0.0967741935483871,\n",
       " 0.13513513513513514,\n",
       " 0.09090909090909091,\n",
       " 0.10344827586206896,\n",
       " 0.11764705882352941,\n",
       " 0.1111111111111111,\n",
       " 0.0,\n",
       " 0.0,\n",
       " 0.0,\n",
       " -0.3939393939393939,\n",
       " -0.2,\n",
       " 0.08108108108108109,\n",
       " 0.1111111111111111,\n",
       " 0.1891891891891892,\n",
       " 0.16129032258064516,\n",
       " 0.0,\n",
       " 0.037037037037037035,\n",
       " 0.1111111111111111,\n",
       " 0.047619047619047616,\n",
       " -0.14285714285714285,\n",
       " 0.2,\n",
       " 0.1724137931034483,\n",
       " 0.1891891891891892,\n",
       " -0.2,\n",
       " -0.05555555555555555,\n",
       " -0.11627906976744186,\n",
       " 0.02564102564102564,\n",
       " -0.13513513513513514,\n",
       " -0.1111111111111111,\n",
       " -0.35135135135135137,\n",
       " 0.0,\n",
       " -0.058823529411764705,\n",
       " -0.2857142857142857,\n",
       " 0.0,\n",
       " -0.06976744186046512,\n",
       " 0.1282051282051282,\n",
       " -0.30434782608695654,\n",
       " -0.14285714285714285,\n",
       " 0.25,\n",
       " 0.02564102564102564,\n",
       " -0.13636363636363635,\n",
       " -0.15789473684210525,\n",
       " 0.1891891891891892,\n",
       " -0.09090909090909091,\n",
       " 0.14285714285714285,\n",
       " 0.3333333333333333,\n",
       " 0.0,\n",
       " -0.17073170731707318,\n",
       " -0.043478260869565216,\n",
       " -0.14285714285714285,\n",
       " -0.09090909090909091,\n",
       " -0.17647058823529413,\n",
       " 0.13513513513513514,\n",
       " -0.13513513513513514,\n",
       " -0.02564102564102564,\n",
       " 0.1282051282051282,\n",
       " -0.1,\n",
       " -0.034482758620689655,\n",
       " -0.05,\n",
       " 0.058823529411764705,\n",
       " 0.09090909090909091,\n",
       " -0.2653061224489796,\n",
       " 0.0,\n",
       " 0.0,\n",
       " 0.0,\n",
       " -0.04,\n",
       " 0.03225806451612903,\n",
       " -0.024390243902439025,\n",
       " -0.3,\n",
       " -0.05263157894736842,\n",
       " -0.22580645161290322,\n",
       " -0.125,\n",
       " -0.2631578947368421,\n",
       " 0.15789473684210525,\n",
       " 0.05555555555555555,\n",
       " -0.1282051282051282,\n",
       " 0.0196078431372549,\n",
       " -0.2,\n",
       " 0.13636363636363635,\n",
       " -0.0196078431372549,\n",
       " -0.08,\n",
       " -0.0196078431372549,\n",
       " -0.022222222222222223,\n",
       " -0.14285714285714285,\n",
       " -0.02127659574468085,\n",
       " 0.022222222222222223,\n",
       " -0.1282051282051282,\n",
       " -0.1111111111111111,\n",
       " -0.09523809523809523,\n",
       " 0.02857142857142857,\n",
       " 0.10638297872340426,\n",
       " 0.0]"
      ]
     },
     "execution_count": 25,
     "metadata": {},
     "output_type": "execute_result"
    }
   ],
   "source": [
    "# GC Skew\n",
    "# Lagging or leading strand\n",
    "GC_skew(covid_dna)"
   ]
  },
  {
   "cell_type": "code",
   "execution_count": 11,
   "metadata": {},
   "outputs": [],
   "source": [
    "xGC_skew(covid_dna)"
   ]
  },
  {
   "cell_type": "code",
   "execution_count": 26,
   "metadata": {},
   "outputs": [],
   "source": [
    "from Bio.SeqUtils import MeltingTemp as mt "
   ]
  },
  {
   "cell_type": "code",
   "execution_count": 28,
   "metadata": {},
   "outputs": [
    {
     "data": {
      "text/plain": [
       "75.8570195680357"
      ]
     },
     "execution_count": 28,
     "metadata": {},
     "output_type": "execute_result"
    }
   ],
   "source": [
    "mt.Tm_GC(covid_dna, strict=False)"
   ]
  },
  {
   "cell_type": "code",
   "execution_count": 29,
   "metadata": {},
   "outputs": [],
   "source": [
    "# Check for number of amino acids \n",
    "covid_pro_freq = Counter(covid_protein)"
   ]
  },
  {
   "cell_type": "code",
   "execution_count": 30,
   "metadata": {},
   "outputs": [
    {
     "data": {
      "text/plain": [
       "<BarContainer object of 22 artists>"
      ]
     },
     "execution_count": 30,
     "metadata": {},
     "output_type": "execute_result"
    },
    {
     "data": {
      "image/png": "[encoded data removed]",
      "text/plain": [
       "<Figure size 432x288 with 1 Axes>"
      ]
     },
     "metadata": {
      "needs_background": "light"
     },
     "output_type": "display_data"
    }
   ],
   "source": [
    "plt.bar(covid_pro_freq.keys(),covid_pro_freq.values())"
   ]
  },
  {
   "cell_type": "code",
   "execution_count": 31,
   "metadata": {},
   "outputs": [
    {
     "data": {
      "text/plain": [
       "[('L', 1435), ('X', 1268), ('*', 632), ('S', 619), ('V', 583)]"
      ]
     },
     "execution_count": 31,
     "metadata": {},
     "output_type": "execute_result"
    }
   ],
   "source": [
    "# 5 most common AA\n",
    "Counter(covid_protein).most_common(5)"
   ]
  },
  {
   "cell_type": "code",
   "execution_count": 33,
   "metadata": {},
   "outputs": [],
   "source": [
    "# Longest Seq of AA before a stop codon\n",
    "covid_clean = covid_protein.split(\"*\")"
   ]
  },
  {
   "cell_type": "code",
   "execution_count": 35,
   "metadata": {},
   "outputs": [],
   "source": [
    "covid_clean =[str(i) for i in covid_clean]"
   ]
  },
  {
   "cell_type": "code",
   "execution_count": 36,
   "metadata": {
    "collapsed": true,
    "jupyter": {
     "outputs_hidden": true
    }
   },
   "outputs": [
    {
     "data": {
      "text/plain": [
       "['QVTNQPTFDLL',\n",
       " 'ICSLNEL',\n",
       " 'NLCGCHSAACLVHSRSIINN',\n",
       " 'LLSLTGHE',\n",
       " 'LVYLLQAAYGFVRVAADHQHI',\n",
       " 'VSSGCDRKVRWRALSLVSTRKHTSNSVCLFYRFATCSYVALETPWRRSYQRHVNILKMALVA',\n",
       " '',\n",
       " 'KLKKAFCLNLNSPMCSSNVRMLELHLMVMLWLSW',\n",
       " 'QNSKAFSTVVVVRHLVSLSLMWAKYQWLTARFFFVRTVIKELVAIVTAPI',\n",
       " 'SHLT',\n",
       " 'ATSLALILMKIFKKTGTLNIAVVLPVNSCVSLTEGHTLAMSITTSVALMATLLSALKTF',\n",
       " 'HVLVKLHALCPNNWTLLTLRGVYTAAVNMSMKLLGTRNVLKRAMNCRHLLKLNWQRNLTPSMGNVQILYFP',\n",
       " 'IP',\n",
       " 'SRLFNQGLKRKSLMALWVEFDLSIQLRHQMNATKCAFQLS',\n",
       " 'SVIIVVKLHGRRAILLKPLANFVALRI',\n",
       " 'LKKVPLLVVTYPKMLLLKFIVQHVTIQX',\n",
       " 'DLSIVLPNTIMNLAXXXXXXXXXXXXPLEAVCSLMLVAITSVPXXXXXXXLT',\n",
       " 'VVXXXXXXEKVPKVLMTTFLKYSKKRKSTSILLVTLNLMKRSPLFWHLFLXPQVLLWKX',\n",
       " 'KXXXXKHSXXXLNPVVILKLQKEKLKKVPGILVNRNQY',\n",
       " 'VLFMHLHQRLLVLYDQFSPALLKLLKILCVFYRRPL',\n",
       " 'QY',\n",
       " 'MEFHSIH',\n",
       " 'DSLML',\n",
       " 'CSHLIWLLTI',\n",
       " 'L',\n",
       " 'WPTLQVVLFS',\n",
       " 'LRSG',\n",
       " 'LTSLALFMKNSNPSLIGLKRSLRKV',\n",
       " 'SFLETVGKLLNLSQPVLVKLSVDKLSPVQRKLRRVFRHSLSL',\n",
       " 'INFWLCVLTLSLLVELNLKP',\n",
       " 'I',\n",
       " 'VKHLSRTQRDCTESVLNPEKKLAYSCL',\n",
       " 'KPQKKLSS',\n",
       " 'REKHFPQKC',\n",
       " 'QRKLS',\n",
       " 'KLVIYNH',\n",
       " 'NNLLVKLLKLHWLVHQFVLTGLCCSKSKTQKSTVPLHLI',\n",
       " 'W',\n",
       " 'QTIPSHSKAVHQQRLLLVMTL',\n",
       " '',\n",
       " 'KCKVTRV',\n",
       " 'ISLLNLMKGLIKYLMRSALPIQLNSVQK',\n",
       " 'MSSPVLWQMLS',\n",
       " 'KLCNQYLNYLHHWALI',\n",
       " 'MSGVWLHTTYLMSLVSLNWLXXXXXXXXXXXXXKXKXXXXXXXXXXXXXXXXXXXXXXXXXXXXXXXXXXXXXXXKSKKKIGXXMIVNKLLVNKTAVRTIRQLLFKQLLRFNLN',\n",
       " 'RXXXXXXXXXXXXXXXXXXXXXXXXXXXKMQTLWKKLKR',\n",
       " 'NQQWLLMQPMFTLNMEEVLQEP',\n",
       " 'IRLLTMPCKLNLMIT',\n",
       " 'LLMDHLKWVVVVF',\n",
       " 'ADTILLNTVFMLSAQMLTKVKTFNFLRVLMKILISTKFYLHHYYQLVFLVLTLYIL',\n",
       " 'EFV',\n",
       " 'ILFAQMST',\n",
       " 'LSLIKISMTNLFQAFWK',\n",
       " 'RVKSKLNKRSLRFLKRKLSHL',\n",
       " 'LKVNLXXNRENKMIRKSKLVLKKLQQLWKKLSSSQKTCYFILTLMAIFIQILPLLLVTLTSLS',\n",
       " 'RKMLHI',\n",
       " 'WVMLFKRVF',\n",
       " 'LLWLYLLKRLVALLKC',\n",
       " 'RKL',\n",
       " 'EKCQQTII',\n",
       " 'PLTRVRV',\n",
       " 'MVTL',\n",
       " 'RRQRQCLKSVKVPFTFYHLLSLMRSKKFLELFLGICEKCLHMQKKHAN',\n",
       " 'CLSVWKLKP',\n",
       " 'FQLYSVNIRVLKYKRVWLIMVLDFTFTPVKQL',\n",
       " 'RHLSTHLTI',\n",
       " 'MKLLLQCHLAM',\n",
       " 'HMA',\n",
       " 'IWKKLLGI',\n",
       " 'DLSKCQLQFLFLHLMLLQRIMVILLLLLKHLKNILLKPSHLLVPIKIGPILDNLHN',\n",
       " 'V',\n",
       " 'NFLREVIKVYITLVILPHST',\n",
       " 'MVKLSPLTILRHFFL',\n",
       " 'EK',\n",
       " 'GLLRCLQQ',\n",
       " 'TTLTSTRKLWTCQ',\n",
       " 'HMDNSLVQLIWMELMLLK',\n",
       " 'NLIIHMKVKHFMFYLMMTLYVXXLLSTTTQLILVFWVGTCQH',\n",
       " 'ITLKSGNTHKLMV',\n",
       " 'LLLNGQITTVILPLHC',\n",
       " 'HSNK',\n",
       " 'S',\n",
       " 'SLIHLLYKMLITEQGLVKLLTFVHLS',\n",
       " 'PTVIRQ',\n",
       " 'VS',\n",
       " 'VMLEKQ',\n",
       " 'VTCFNMPI',\n",
       " 'ILAKES',\n",
       " 'TWCVKLVDNSRQPLRV',\n",
       " 'KLLCTWAHFLMNNLRKVFRYLVRVVNKLQNI',\n",
       " 'YNRSHLLL',\n",
       " 'CQHHLLSMNLSMVHLLVLVSTLVITSVVTINI',\n",
       " 'LLKKXXXXXXXXXXXXXXXXXXXXXXFSTKKTVTQQP',\n",
       " 'NQLLINWMVLFVQKLTLSWTIIIRKTILISQSNQLILYQTNHIQTQASIILSLYVIISNLLMI',\n",
       " 'TS',\n",
       " 'LVIRNLLQESLKLHFSLT',\n",
       " 'MVMWWLLIINTTHPLLRKELNCYINLLFGMLTMQLIKPRINQIPGVYVVFGAQNQLKHQIRXXXXXXXXXXXXXXXXXXXXXXXXKK',\n",
       " 'WKILPYRKTFLSVM',\n",
       " 'KLPKL',\n",
       " 'ETLYLNQQIIV',\n",
       " 'KLQKRLATQI',\n",
       " 'WLLM',\n",
       " 'TILVLLLRNLMNYLEY',\n",
       " 'V',\n",
       " 'KPLLLMV',\n",
       " 'LLLIVSLGIL',\n",
       " 'LIMLSLFLTKLLVQLLT',\n",
       " 'LHGV',\n",
       " 'TVFVLIICLISLLYCYNCVLLLEVQILELKHLCRLL',\n",
       " 'QRILLRVSVNFV',\n",
       " 'RLHLII',\n",
       " 'SHLIFLN',\n",
       " '',\n",
       " 'IL',\n",
       " 'FGFYY',\n",
       " 'VFA',\n",
       " 'VL',\n",
       " 'SXXXXXXVXXXXXXXXXXXXXXXXXXXXXXXXXXXXXXXXXXXXXXXXXXXXIL',\n",
       " 'TPILL',\n",
       " 'KLYKLPFHLLNGI',\n",
       " 'LLLA',\n",
       " 'LQSGFWHIFFSLGFSMYLDWLQSCNCFSAILQYILLVILGLCG',\n",
       " '',\n",
       " 'LILYKWPRFQLWLECTSSLHHFIMYGKVMCML',\n",
       " 'TVVIHQLV',\n",
       " 'CVTNVIEQQESNVQLLLMVLEGPFXXXXXXXXAFANYTIGIVLIVIHSVLVVHLLVMKLRETXXXXXKDQ',\n",
       " 'ILLTSLLTSLIVLQ',\n",
       " 'RMVPSIFTLIKLVKRLMKDILSLILLT',\n",
       " 'TT',\n",
       " 'ELITXXXXXLLML',\n",
       " 'FLMVNQNVKNHLQNQRLFTTVSLCVNLYCY',\n",
       " 'IRH',\n",
       " 'CLMLVIVRKLQLKCLMLTLIRFHQLLTYQWKNSKH',\n",
       " 'LQLQKLNLQRMCP',\n",
       " 'TMSYLLLFQXXXXXXXXXXXXXXXXXNVLNCHINLT',\n",
       " 'KLLAIVVITICSPITKLKT',\n",
       " 'HPVTLVLVLTVVRVILMRR',\n",
       " 'QKVTTLL',\n",
       " 'YGTLKISCHCLNNYENKYVVLLKRITYLLS',\n",
       " 'HVQLLDKLLML',\n",
       " 'QQR',\n",
       " 'HLRVVKLLIIG',\n",
       " 'SS',\n",
       " 'LKLHLCSFLLLLFSI',\n",
       " '',\n",
       " 'HLFMSCLNILTFQVKS',\n",
       " 'DTRLLMVVSLVT',\n",
       " 'HLQILVLLTNMLILTHGLVSVVVVILMTKLAH',\n",
       " 'LLQS',\n",
       " 'QEKWVLSCLVCLARYYAQLMVTFCISYLEFLVQLVTSVTHHQNL',\n",
       " 'STLTLQHQLVFWLLNVQFLKMLLVSQYHIVMIPMY',\n",
       " 'KVLLLMKVYALTHVMCSWMALLFNFLTPTLKVLLEW',\n",
       " 'QLLILSTVGTALVKDQKLVFVYLLVVDGYLTMIITDLYQEFSVV',\n",
       " 'ML',\n",
       " 'IYLLICXXXXXXXLVLWTYQHL',\n",
       " '',\n",
       " 'LVVL',\n",
       " 'LS',\n",
       " '',\n",
       " 'HALPTIL',\n",
       " 'GLEELLVNTVM',\n",
       " 'LPLILYYSLXXXXXXXXXXXXXXXXXXXXXXXXXXXXXXXXXXXXXXXXXXXXXXXXXXXXXXXXXXXXXXXXXXXXXXXXXXXXXXXXXXXXXXXXXXXXXXXXXXXXXXXXXXXXXXXXYLLRNIIDT',\n",
       " 'LFIISTSILVEQWIQLATEKLLVVISQRLSMTSVTQVLMFFTNHHKPLSPQLFCRVVLEKWHSHLVKLRVVWYK',\n",
       " 'LVVQLHLTVFGLMT',\n",
       " 'FTVQDM',\n",
       " 'SAPLKTCLTXIMKIYSFVSLIIISWYRLVMFNSGLLDILCKIVYLSLRLIQPILRHLSISLFAFNQDRLFQC',\n",
       " 'LVTMVHHLVFTNVL',\n",
       " 'GPISLLRVHSLMVHVVVLVLT',\n",
       " 'IMTVSLFVTCTIWNYQLEFMLAQT',\n",
       " 'KVTFMDLLLTGKQHKQLVRTQLLQLMF',\n",
       " 'LGCTLLL',\n",
       " 'METGGFSIDLPQLLMTLTLWL',\n",
       " 'STIMNL',\n",
       " 'HKTMLTY',\n",
       " 'DLFLLKLELPF',\n",
       " 'ICVLH',\n",
       " 'KNYCKMV',\n",
       " 'MXXXXXXXXY',\n",
       " 'KMNLHLLMLLDNAQVLLSKVQ',\n",
       " 'KEQSRVHTTGCYSQF',\n",
       " 'LHF',\n",
       " 'F',\n",
       " 'SRVLNGLCSFFCMKMPFXXXXXXXLLCLLLQ',\n",
       " 'CLSNISMHFSVCFCYLLLPL',\n",
       " 'LILIWSICLLVG',\n",
       " 'CVL',\n",
       " 'HGXXXXXXXXXVLS',\n",
       " 'KTVLCMHQL',\n",
       " 'CY',\n",
       " 'SL',\n",
       " 'QQELCMMMVLGECGHL',\n",
       " 'MS',\n",
       " 'HSFIKFIMVML',\n",
       " 'IKPFPCGXXXXXXXXXXXXXXXXXXXXXXXXFLCVLSIALFXXXXXXHFSV',\n",
       " 'C',\n",
       " 'FIVS',\n",
       " 'AIFVLVTLASFVYSTATLD',\n",
       " 'LLVFMIT',\n",
       " 'FLHRSLDIXXXXXXXXXXXXXMPSNSTLNCWVLVANLVSK',\n",
       " 'PLYSLKCQM',\n",
       " 'SAHQ',\n",
       " 'SYSQFCNNSE',\n",
       " 'NHHLNCGLNVSSYTMTFS',\n",
       " 'LKILLKPLKKWFHYFLFCFPCRVL',\n",
       " 'T',\n",
       " 'TSFVKKCWTTGQPYKL',\n",
       " 'PQSLVPFHHMQLLLLLKKLMSRLLLMVILKLFLKS',\n",
       " 'RSL',\n",
       " 'MWLNLNLTVMQPCNVSWKRWLIKL',\n",
       " 'PKCINRLDLRTRGQKLLVLCRQCFSLCLESWIMMHSTTLSTMQEMVVFP',\n",
       " 'T',\n",
       " 'YLLQQQPN',\n",
       " 'WLSYQTITHIKIXXXXXXXXXXXXXXXXXXXXXXXXXXXXXXXXXXXXXXXXXXXXXXXL',\n",
       " 'GPILLSNYRIMSLVLLHYDRCLVLPVLHKLLALMTMR',\n",
       " 'LTTTQQREVGLYLHCYPIXXXXXXXXSLRVMELVLSIQNWNHLVGLLQTHLKVLK',\n",
       " 'SIYTLLKD',\n",
       " 'TT',\n",
       " 'IEVWYLVV',\n",
       " 'LPQYVYKLVMQQKCLPIQLYYLSVLLL',\n",
       " 'MLLKLTKII',\n",
       " 'LVGDNQSLIVLRCCVHTLVLVRQ',\n",
       " 'QLHRKPIWIKNPLVVHRVVCTAVAT',\n",
       " 'IIQILKDFVT',\n",
       " 'KVSMYKYLQLVLMTLWVLHLKTQSVPSAVCGKVMAVVVINSANPCFSQLMHNRF',\n",
       " 'TGLRCKCSPSYTVRHRH',\n",
       " 'Y',\n",
       " 'CRIQGF',\n",
       " 'HLQ',\n",
       " '',\n",
       " 'SSWFC',\n",
       " 'IPKN',\n",
       " 'LLSLPRKGRR',\n",
       " 'QFN',\n",
       " 'FLLCS',\n",
       " 'ETHFL',\n",
       " 'XXXXXXXXXXXXXXXXXXXXXXXXXXXXXXXXXXXXXXXXXXXXXXXXXXXXXXXXXX',\n",
       " 'L',\n",
       " 'HIKRNTCHIQLL',\n",
       " '',\n",
       " '',\n",
       " 'LFQ',\n",
       " 'KGLV',\n",
       " 'FCRKPRYITRIRQLR',\n",
       " 'TCTPSFVKNSTIL',\n",
       " 'CHAKCWYCWCTDIR',\n",
       " 'SRSQW',\n",
       " 'LV',\n",
       " 'FR',\n",
       " 'FHTNHAR',\n",
       " 'WSSCCRFLLFIVNAYINLDQGFNCRVTC',\n",
       " 'H',\n",
       " 'LNKALH',\n",
       " 'VGFVKI',\n",
       " 'LHGREVKTL',\n",
       " 'PLF',\n",
       " 'ILGSDIPPKLC',\n",
       " 'LFG',\n",
       " 'QMHSALCKL',\n",
       " 'CFILYSVPTYKFWTTSEKNIC',\n",
       " 'WCSICSFNWIPLQRARCCT',\n",
       " 'SGCKLT',\n",
       " 'L',\n",
       " 'T',\n",
       " 'F',\n",
       " 'GITCVCC',\n",
       " 'PCYARCFW',\n",
       " 'SITR',\n",
       " 'TXXXXXXXXXX',\n",
       " 'QCCFSNCQTR',\n",
       " 'F',\n",
       " 'QRLL',\n",
       " 'LCCV',\n",
       " 'GFL',\n",
       " 'GRKFC',\n",
       " 'IKTLLLXXXXXCCYQRL',\n",
       " 'LLSL',\n",
       " 'XXXXXXXQTTTICS',\n",
       " 'SC',\n",
       " '',\n",
       " 'VL',\n",
       " 'LLRWWLY',\n",
       " 'C',\n",
       " 'PSHRQQPRQISWFSI',\n",
       " '',\n",
       " 'MG',\n",
       " 'G',\n",
       " 'TLL',\n",
       " 'FNEL',\n",
       " 'GSRCTFRIYKT',\n",
       " 'CHPYYNSNES',\n",
       " 'VCH',\n",
       " 'CKE',\n",
       " 'SSHRSWCLYL',\n",
       " 'YYDQ',\n",
       " 'TVSSKIIEINSRH',\n",
       " 'RSYCSNWNKQILWWLAQHVKNCL',\n",
       " '',\n",
       " 'CRKPSPYGLGLS',\n",
       " 'M',\n",
       " '',\n",
       " 'SHA',\n",
       " 'HA',\n",
       " 'NYGLTCSCSQTYNVL',\n",
       " 'LVXXXXXIS',\n",
       " '',\n",
       " 'VCSSIE',\n",
       " 'NGHVWRFTXXXTRWNLIRRCHNCLC',\n",
       " '',\n",
       " 'CF',\n",
       " 'HLSSCHGQC',\n",
       " 'CTFXXXXXXXCR',\n",
       " 'VCPQFTTQTL',\n",
       " 'VSL',\n",
       " 'K',\n",
       " 'RC',\n",
       " 'HRLCE',\n",
       " 'VLRIFA',\n",
       " 'TFLNDDTL',\n",
       " 'RCCXXXXXXXXXSXXXXXXXXXXXXXXXXXXXXXXXXXXXXXXXXXXXXX',\n",
       " 'ILLSTYNAS',\n",
       " 'TG',\n",
       " '',\n",
       " 'LCVPSLPRSIKNPRGRLFCR',\n",
       " 'YRKNRWYTYD',\n",
       " 'TVRVFSYRCLXXX',\n",
       " 'XXXXXXXXXXXXXXXXXXXXXXXXXXXXXXXXXXXXXXXXXXXXXXXXXXXXXXXXXXXXXXXXXXXXXXXXXXXXXXXXHT',\n",
       " 'TILML',\n",
       " 'MLLRPCHINIT',\n",
       " 'ISLVC',\n",
       " 'SVCLQCSRL',\n",
       " 'CHRCDSTLLRRYELLL',\n",
       " 'IT',\n",
       " 'TTH',\n",
       " 'FSIVC',\n",
       " 'WTSFWFI',\n",
       " 'KYMCW',\n",
       " 'R',\n",
       " 'CY',\n",
       " 'L',\n",
       " 'CNCNM',\n",
       " 'LDKCW',\n",
       " 'LHFS',\n",
       " 'HLY',\n",
       " 'KTQAFCSRNAQSY',\n",
       " 'GDI',\n",
       " 'TVLWYCYCT',\n",
       " 'SAV',\n",
       " 'QRITSFMGSW',\n",
       " 'T',\n",
       " 'TTT',\n",
       " 'PKLCLYWLSCN',\n",
       " 'KQ',\n",
       " 'STNRRVHL',\n",
       " 'KR',\n",
       " 'LW',\n",
       " 'CCCLPRYNNLQIKCW',\n",
       " 'LFCADITYSNAIKCTYTSATRALC',\n",
       " 'NYWLIPNTQYLR',\n",
       " 'VF',\n",
       " 'QCCKLSKGWYAKVFYTPGTTWYW',\n",
       " 'ESFCYWPSSLLPFCSHSVYSLLSCRC',\n",
       " 'CTM',\n",
       " 'EGIKIFAYR',\n",
       " 'M',\n",
       " '',\n",
       " 'NXXXXXXXXXXX',\n",
       " 'IQSEFNIRTVCLLYCKCIA',\n",
       " 'DDSRYSCL',\n",
       " '',\n",
       " 'NFNGHKL',\n",
       " 'FECCQCQITC',\n",
       " 'ALCVHWRPCSIXXXXXXXXXXXXXXXXXXXXXXXXXXXXXXXXPRNLSALSC',\n",
       " 'NC',\n",
       " 'HCECFGL',\n",
       " '',\n",
       " '',\n",
       " 'A',\n",
       " 'ST',\n",
       " 'RQISSML',\n",
       " 'NVL',\n",
       " 'GCYHA',\n",
       " 'CFICN',\n",
       " 'QATNRRGKRIPYT',\n",
       " 'PCLEKSCLYFTL',\n",
       " 'FTECCSLKDFGTTNSNC',\n",
       " 'FITGLRM',\n",
       " 'LCHIHSNH',\n",
       " 'NSSLL',\n",
       " 'CKQI',\n",
       " 'CCYYQSKSRHTLHNV',\n",
       " '',\n",
       " 'RPL',\n",
       " 'QVAIYKS',\n",
       " 'NST',\n",
       " 'ECGNFTS',\n",
       " 'KCNRTF',\n",
       " 'RL',\n",
       " '',\n",
       " 'GNHWVTSYTGTYTPQC',\n",
       " 'H',\n",
       " 'IQN',\n",
       " 'RFMC',\n",
       " 'HTWHT',\n",
       " 'GHDL',\n",
       " 'KTHLYDGF',\n",
       " 'NELSS',\n",
       " 'WLP',\n",
       " 'HVYHPRRSYKTCTCMDWLRCRGVSCY',\n",
       " 'RSCWYQFTFTARFFYRC',\n",
       " 'PSCCTYRLC',\n",
       " 'YT',\n",
       " '',\n",
       " 'XXXXXXXXXXXXXXXXXXXXXXXXXXXXXXXXXXXXXXXXXXXXXXXL',\n",
       " 'QSRICLXXXXXXXXXXXXXXXXXXXXXXXXXXXXXXXXXXXXXXXXXXXXXXXXXXXXXXXXXXXSTMGFYR',\n",
       " 'PTKQP',\n",
       " 'SVLSSPW',\n",
       " 'CTCS',\n",
       " 'L',\n",
       " 'CNHD',\n",
       " 'VSSCPRVLC',\n",
       " 'AC',\n",
       " 'LDY',\n",
       " 'ISYNW',\n",
       " '',\n",
       " 'TED',\n",
       " 'CGL',\n",
       " 'KGSTHGC',\n",
       " 'SCIISRQIPSSSRHW',\n",
       " 'P',\n",
       " 'SY',\n",
       " 'VCTSS',\n",
       " 'CRMEVL',\n",
       " 'CTAL',\n",
       " '',\n",
       " 'QSL',\n",
       " 'NRRIILFLCHTF',\n",
       " 'QIHRWCMPILXXXXXXXXXXXXXXXXXXXXXXXXXXXXXXXXXXXXXXTCIPHTSF',\n",
       " '',\n",
       " 'KCFC',\n",
       " 'FKTITIFLLL',\n",
       " 'QSM',\n",
       " 'VSWKTSSVRYRLCTTKVCYVYNTLQFRWCCL',\n",
       " 'TSC',\n",
       " '',\n",
       " 'VXXVXRCL',\n",
       " 'HDDLSWL',\n",
       " 'LVGLQTI',\n",
       " 'YL',\n",
       " 'PLEHFYKTSEFRKCGF',\n",
       " 'CCK',\n",
       " 'GTL',\n",
       " 'WTTG',\n",
       " 'STSFYH',\n",
       " '',\n",
       " 'HCLHKS',\n",
       " 'WC',\n",
       " 'CRIV',\n",
       " 'K',\n",
       " 'NNITC',\n",
       " 'CSI',\n",
       " 'ALG',\n",
       " 'AQH',\n",
       " 'TSTRGENTQ',\n",
       " 'FGCGHCC',\n",
       " 'YCDLGLQKRCSSTYIYYWCLFYD',\n",
       " 'HSQETN',\n",
       " 'NDLCTTHCLF',\n",
       " 'W',\n",
       " 'S',\n",
       " 'WSSRLI',\n",
       " 'KCP',\n",
       " 'WCSYYRR',\n",
       " 'C',\n",
       " 'RFTTICRSQTS',\n",
       " 'S',\n",
       " 'WSHINWRSRKNTVQLL',\n",
       " 'ES',\n",
       " 'WCCPTIT',\n",
       " 'NLFYSE',\n",
       " 'KFTRI',\n",
       " 'TXXXXXXXXXXXXXG',\n",
       " 'IH',\n",
       " 'TV',\n",
       " 'IRRLCLRTYRLWRF',\n",
       " 'S',\n",
       " 'SVRWFTSTDWTS',\n",
       " 'TF',\n",
       " 'GITF',\n",
       " 'IRRFYSYGQYS',\n",
       " 'KLFHNRCANRFI',\n",
       " 'VCVFCY',\n",
       " 'FIT',\n",
       " '',\n",
       " 'FC',\n",
       " 'NNKIPRFICSF',\n",
       " 'GCQSDY',\n",
       " 'LYRNFIYALV',\n",
       " 'XWXXXXXXXXXXXXXXXXXGCCYA',\n",
       " 'SLQNAKNAIRKV',\n",
       " 'PSKLW',\n",
       " '',\n",
       " 'CNIT',\n",
       " 'RHNDECRKIYSTVSIFKHINISCTL',\n",
       " 'YESYTFWCWF',\n",
       " '',\n",
       " 'RSCTRYSCFKTVVAYGYAACRFRS',\n",
       " '',\n",
       " 'LCL',\n",
       " 'CRFNFDW',\n",
       " 'LCNCTYS',\n",
       " '',\n",
       " 'MGSHY',\n",
       " '',\n",
       " 'YVRP',\n",
       " 'D',\n",
       " 'KCYKRK',\n",
       " 'L',\n",
       " 'RGFFHLHLWVYTTKASSWRXXXXXXNRTFLEC',\n",
       " 'SL',\n",
       " 'AHGTLRMVDSLXXXXXXXXXXXXXXXXXXXXXXXXXXXXXXXXXXXXXXXXXXXXXXXXXXXXXXXXXXXXXXXXXXXXFKRRSNQ',\n",
       " 'YDFISSXXXXXXXXXXQQSCYF',\n",
       " '',\n",
       " 'CSC',\n",
       " 'QLNEQCLFFLFYCH',\n",
       " 'SLVSVLILQPELNYPLHTLILSHVVFITLTKFSXXXXXXXLRTCSYLSFPMLLGSMLYMSLGPMVLRGLITLSYHLMMVFILLPLRSLT',\n",
       " '',\n",
       " 'EAGFLVLL',\n",
       " 'IRRPSPYLLLITLLMLLLKSVNFNFVMIHFWVFITTKTTKVGWKVSSEFILVRIIALLNMSLSLFLWTLKENRVISKILGNLCLRILMVILKYILSTRLLI',\n",
       " 'CVISLRVFRL',\n",
       " 'NHW',\n",
       " 'ICQ',\n",
       " 'VLTSLGFXXXXXXXXXI',\n",
       " 'LXXXXXXXXXLVLQLIMWVIFNLGLFY',\n",
       " 'NIMKMEPLQML',\n",
       " 'TVXXXXXXXXXXR',\n",
       " 'NPSL',\n",
       " 'KXXXXXXXXXXXXXXXXXXXXXXXXXXALLVKFLTPPDLHLFMXXXXXXXXTVLLIILSYIIPHXFPLLSVMECLLLN',\n",
       " 'MISALLMSMQIHL',\n",
       " 'LEVMKSXXXXXXXXXXXXXXXXNYQMILQAAL',\n",
       " 'LGILTILILRLVVIIITCIDCLGSLISNLLREIFQLKSIRPVAHLVMVLKVLIVTFLYNHMVSNPLMVLVTNHTE',\n",
       " '',\n",
       " 'YFLLNFYMHQQLFVDLKSLLIWLKTNVSISTSMV',\n",
       " 'QAQVFLLSLTKSFCLSNNLAETLLTLLMLSVIHRHLRFLTLHHVLLVVSVL',\n",
       " 'HQEQILLTRLLFFIRMLTAQKSLLLFMQINLLLLGVFILQVLMFFKHVQAV',\n",
       " 'XXXXXXXXXXXXXXXXXXXYALVIRLXXXXXXXXXX',\n",
       " 'LVNPSLPTLCHLVQKIQLLTLITLLPYPQILLLVLPQKFYQCL',\n",
       " 'PRHQ',\n",
       " 'IVQCTFVVIQLNAAIFCCXXXVFVHN',\n",
       " 'TVL',\n",
       " 'LE',\n",
       " 'LLNKTKTPKKFLHKSNKFTKHHQLKILVVLIFHKYXXXXXXXXXXXXXXXXXXXXXXXXXXXXXXXXXXXXXXXXXXXXXVHKSLTALLFCHLCSQMK',\n",
       " 'LLNTLLHC',\n",
       " 'RVQSLLVGPLVQVLHYKYHLLCKWLIGLMVLELHRMFSMRTKN',\n",
       " 'LPTNLIVLLAKFKTHFLPQXXXXXXXXXXXXXXXXXXXXXXXXXXXXXXQFQVF',\n",
       " 'MISFHVLTKLRLKCKLIG',\n",
       " 'SQADFKVCRHM',\n",
       " 'LNN',\n",
       " 'LELQKSELLLILLLLKCQSVYLDNQKELIFVERAIILCPSLSQHLMV',\n",
       " 'SSCM',\n",
       " 'LMSLHKKRTSQLLLPFVMMEKHTFLVKVSLFQMAHTGL',\n",
       " 'HKGIFMNHKSLLQTTHLCLVTVML',\n",
       " '',\n",
       " 'ELSTTQFMILCNLN',\n",
       " 'THSRRS',\n",
       " 'INILRIIHHQMLI',\n",
       " 'VTSLALMLQL',\n",
       " 'TFKKKLTASMRLPRI',\n",
       " 'MNLSSISKNLESMSSI',\n",
       " 'NGHGTFGXXXXXXXXXXXXXXXXXAV',\n",
       " 'PVAVVVSRAVVLVXXXXXXXXXXXSQCSKESNYITHKRTYGFVYENLHNXXXNFEAR',\n",
       " 'NQGCYSFRFCSRYCNDTDTSLTPFRMAYCWRCTSCCFSERFQNHNPQKEMATSTLQGCSLCLQLAVVVCNSLLTPFARCCWP',\n",
       " 'SPFSLSLCFSXXXXXXXXXXXXXXXLALLEMPFQKXXTL',\n",
       " 'CQLFSLLAY',\n",
       " 'LLRLLYTLQ',\n",
       " 'CNFFNCHYFR',\n",
       " 'WHNKSYF',\n",
       " 'T',\n",
       " 'LPDWWLY',\n",
       " 'KMGIWSKRLCCITQLLHFRLLPAVLNSIEYRHWC',\n",
       " 'TCYLLHLQ',\n",
       " 'NC',\n",
       " '',\n",
       " 'A',\n",
       " 'RTCPNSHNRRFIRSC',\n",
       " 'SSNGTNL',\n",
       " '',\n",
       " 'TDDXXXXAFVSTS',\n",
       " '',\n",
       " 'VRTYVLIRFGRDRYVNS',\n",
       " '',\n",
       " 'RTSFSCFRGILASYTSHPYCASIVCVLLQYC',\n",
       " 'RESCKTFFLRLLSC',\n",
       " 'KSEFF',\n",
       " 'SS',\n",
       " 'SSGLNELNIILVFLFGTLILAMADSNGTITVEELKKLLEQWNLVIGFLFLTWICLLQFAYANRNRFLYIIKLIFLWLLWPVTLACFVLAAVYRINWITGGIAIAMACLVGLMWLSYFIASFRLFARTRSMWSFNPETNILLNVPLHGTILTRPLLESELVIGAVILRGHLRIAGHHLGRCDIKDLPKEITVATSRTLSYYKLGASQRVAGDSGFAAYSRYRIGNYKLNTDHSSSSDNIALLVQ',\n",
       " 'VTTDVSSR',\n",
       " 'LSGYYSRDITNYYEDF',\n",
       " 'SFHLES',\n",
       " 'LHHKPHN',\n",
       " 'KFI',\n",
       " 'VTN',\n",
       " 'E',\n",
       " 'IFSIR',\n",
       " 'RATNGD',\n",
       " 'LNEHENYSFLGTDNTRYL',\n",
       " 'ALSLPRVC',\n",
       " 'RYNSTFKRTLLFWNIRGQFTISSSS',\n",
       " '',\n",
       " 'QICTDLL',\n",
       " 'HSICFCLS',\n",
       " 'RRKTRLSVTCQISFT',\n",
       " 'TVHQTRGSSRTLLSNFSYCCGNSVYNTLLHTQKKDRMIELSLIDFYLCFLAFLLFLVLIMLIIFWFSLELQDHNETCHA',\n",
       " 'TNMKFLVFLGIITTVAAFHQECSLQSCTQHQPYVVDDPCPIHFYSKWYIRVGARKSAPLIELCVDEAGSKSPIQYIDIGNYTVSCSPFTINCQEPKLGSLVVRCSFYEDFLEYHDVRVVLDFI',\n",
       " 'TNKLKCLIMDPKISEMHPALRLVDPQIQLAVTRMENAVGRDQNNVGPKVYPIILRLGSPLSLNMARKTLNSLEDKAFQLTPIAVQMTKLATTEELPDEFVVVTVK',\n",
       " 'KISVQDGISTT',\n",
       " 'ELGQKLDFPMVLTKTASYGLQLREP',\n",
       " 'IHQKITLAPAILLTMLQSCYNFLKEQHCQKASTQKGAEAAVKPLLVPHHVVATVQEIQLQAAVGELLLLEWLAMAVMLLLLCCCLTD',\n",
       " 'TSLRAKCLVKANNNKAKLSLRNLLLRLLRSLGKNVLPLKHTM',\n",
       " 'HKLSADVVQNKPKEILGTRN',\n",
       " 'SDKELITNIGRKLHNLPPALQRSSECRALAWKSHLRERG',\n",
       " 'PTQVPSNWMTKIQISKIKSFC',\n",
       " 'ISILTHTKHSHQQSLKRTKRRRLMKLKPYRRDRRNSKL',\n",
       " 'LFFLLQIWMISPNNCNNP',\n",
       " 'AVLTQLRPKLMQTTQGRWAI',\n",
       " 'TFSLFRLRYIVYSCAE',\n",
       " 'ILVTT',\n",
       " 'HK',\n",
       " 'M',\n",
       " 'LTLISHSNL',\n",
       " 'SVCNIREDLKEPPHFHRGHAEYDRVYSEQC',\n",
       " 'GELPIWKSPNV',\n",
       " 'N',\n",
       " 'F']"
      ]
     },
     "execution_count": 36,
     "metadata": {},
     "output_type": "execute_result"
    }
   ],
   "source": [
    "covid_clean"
   ]
  },
  {
   "cell_type": "code",
   "execution_count": 37,
   "metadata": {},
   "outputs": [],
   "source": [
    "# Data Frame\n",
    "import pandas as pd"
   ]
  },
  {
   "cell_type": "code",
   "execution_count": 40,
   "metadata": {},
   "outputs": [],
   "source": [
    "df = pd.DataFrame({\"Amino Acids\":covid_clean})"
   ]
  },
  {
   "cell_type": "code",
   "execution_count": 42,
   "metadata": {},
   "outputs": [],
   "source": [
    "df['count'] = df['Amino Acids'].str.len()"
   ]
  },
  {
   "cell_type": "code",
   "execution_count": 44,
   "metadata": {},
   "outputs": [
    {
     "data": {
      "text/html": [
       "<div>\n",
       "<style scoped>\n",
       "    .dataframe tbody tr th:only-of-type {\n",
       "        vertical-align: middle;\n",
       "    }\n",
       "\n",
       "    .dataframe tbody tr th {\n",
       "        vertical-align: top;\n",
       "    }\n",
       "\n",
       "    .dataframe thead th {\n",
       "        text-align: right;\n",
       "    }\n",
       "</style>\n",
       "<table border=\"1\" class=\"dataframe\">\n",
       "  <thead>\n",
       "    <tr style=\"text-align: right;\">\n",
       "      <th></th>\n",
       "      <th>Amino Acids</th>\n",
       "      <th>count</th>\n",
       "    </tr>\n",
       "  </thead>\n",
       "  <tbody>\n",
       "    <tr>\n",
       "      <th>0</th>\n",
       "      <td>QVTNQPTFDLL</td>\n",
       "      <td>11</td>\n",
       "    </tr>\n",
       "    <tr>\n",
       "      <th>1</th>\n",
       "      <td>ICSLNEL</td>\n",
       "      <td>7</td>\n",
       "    </tr>\n",
       "    <tr>\n",
       "      <th>2</th>\n",
       "      <td>NLCGCHSAACLVHSRSIINN</td>\n",
       "      <td>20</td>\n",
       "    </tr>\n",
       "    <tr>\n",
       "      <th>3</th>\n",
       "      <td>LLSLTGHE</td>\n",
       "      <td>8</td>\n",
       "    </tr>\n",
       "    <tr>\n",
       "      <th>4</th>\n",
       "      <td>LVYLLQAAYGFVRVAADHQHI</td>\n",
       "      <td>21</td>\n",
       "    </tr>\n",
       "  </tbody>\n",
       "</table>\n",
       "</div>"
      ],
      "text/plain": [
       "             Amino Acids  count\n",
       "0            QVTNQPTFDLL     11\n",
       "1                ICSLNEL      7\n",
       "2   NLCGCHSAACLVHSRSIINN     20\n",
       "3               LLSLTGHE      8\n",
       "4  LVYLLQAAYGFVRVAADHQHI     21"
      ]
     },
     "execution_count": 44,
     "metadata": {},
     "output_type": "execute_result"
    }
   ],
   "source": [
    "df.head()"
   ]
  },
  {
   "cell_type": "code",
   "execution_count": 46,
   "metadata": {},
   "outputs": [
    {
     "data": {
      "text/html": [
       "<div>\n",
       "<style scoped>\n",
       "    .dataframe tbody tr th:only-of-type {\n",
       "        vertical-align: middle;\n",
       "    }\n",
       "\n",
       "    .dataframe tbody tr th {\n",
       "        vertical-align: top;\n",
       "    }\n",
       "\n",
       "    .dataframe thead th {\n",
       "        text-align: right;\n",
       "    }\n",
       "</style>\n",
       "<table border=\"1\" class=\"dataframe\">\n",
       "  <thead>\n",
       "    <tr style=\"text-align: right;\">\n",
       "      <th></th>\n",
       "      <th>Amino Acids</th>\n",
       "      <th>count</th>\n",
       "    </tr>\n",
       "  </thead>\n",
       "  <tbody>\n",
       "    <tr>\n",
       "      <th>594</th>\n",
       "      <td>SSGLNELNIILVFLFGTLILAMADSNGTITVEELKKLLEQWNLVIG...</td>\n",
       "      <td>243</td>\n",
       "    </tr>\n",
       "    <tr>\n",
       "      <th>161</th>\n",
       "      <td>LPLILYYSLXXXXXXXXXXXXXXXXXXXXXXXXXXXXXXXXXXXXX...</td>\n",
       "      <td>130</td>\n",
       "    </tr>\n",
       "    <tr>\n",
       "      <th>612</th>\n",
       "      <td>TNMKFLVFLGIITTVAAFHQECSLQSCTQHQPYVVDDPCPIHFYSK...</td>\n",
       "      <td>123</td>\n",
       "    </tr>\n",
       "    <tr>\n",
       "      <th>44</th>\n",
       "      <td>MSGVWLHTTYLMSLVSLNWLXXXXXXXXXXXXXKXKXXXXXXXXXX...</td>\n",
       "      <td>114</td>\n",
       "    </tr>\n",
       "    <tr>\n",
       "      <th>613</th>\n",
       "      <td>TNKLKCLIMDPKISEMHPALRLVDPQIQLAVTRMENAVGRDQNNVG...</td>\n",
       "      <td>105</td>\n",
       "    </tr>\n",
       "    <tr>\n",
       "      <th>527</th>\n",
       "      <td>IRRPSPYLLLITLLMLLLKSVNFNFVMIHFWVFITTKTTKVGWKVS...</td>\n",
       "      <td>101</td>\n",
       "    </tr>\n",
       "    <tr>\n",
       "      <th>550</th>\n",
       "      <td>LLNKTKTPKKFLHKSNKFTKHHQLKILVVLIFHKYXXXXXXXXXXX...</td>\n",
       "      <td>98</td>\n",
       "    </tr>\n",
       "    <tr>\n",
       "      <th>524</th>\n",
       "      <td>SLVSVLILQPELNYPLHTLILSHVVFITLTKFSXXXXXXXLRTCSY...</td>\n",
       "      <td>89</td>\n",
       "    </tr>\n",
       "    <tr>\n",
       "      <th>96</th>\n",
       "      <td>MVMWWLLIINTTHPLLRKELNCYINLLFGMLTMQLIKPRINQIPGV...</td>\n",
       "      <td>87</td>\n",
       "    </tr>\n",
       "    <tr>\n",
       "      <th>616</th>\n",
       "      <td>IHQKITLAPAILLTMLQSCYNFLKEQHCQKASTQKGAEAAVKPLLV...</td>\n",
       "      <td>87</td>\n",
       "    </tr>\n",
       "  </tbody>\n",
       "</table>\n",
       "</div>"
      ],
      "text/plain": [
       "                                           Amino Acids  count\n",
       "594  SSGLNELNIILVFLFGTLILAMADSNGTITVEELKKLLEQWNLVIG...    243\n",
       "161  LPLILYYSLXXXXXXXXXXXXXXXXXXXXXXXXXXXXXXXXXXXXX...    130\n",
       "612  TNMKFLVFLGIITTVAAFHQECSLQSCTQHQPYVVDDPCPIHFYSK...    123\n",
       "44   MSGVWLHTTYLMSLVSLNWLXXXXXXXXXXXXXKXKXXXXXXXXXX...    114\n",
       "613  TNKLKCLIMDPKISEMHPALRLVDPQIQLAVTRMENAVGRDQNNVG...    105\n",
       "527  IRRPSPYLLLITLLMLLLKSVNFNFVMIHFWVFITTKTTKVGWKVS...    101\n",
       "550  LLNKTKTPKKFLHKSNKFTKHHQLKILVVLIFHKYXXXXXXXXXXX...     98\n",
       "524  SLVSVLILQPELNYPLHTLILSHVVFITLTKFSXXXXXXXLRTCSY...     89\n",
       "96   MVMWWLLIINTTHPLLRKELNCYINLLFGMLTMQLIKPRINQIPGV...     87\n",
       "616  IHQKITLAPAILLTMLQSCYNFLKEQHCQKASTQKGAEAAVKPLLV...     87"
      ]
     },
     "execution_count": 46,
     "metadata": {},
     "output_type": "execute_result"
    }
   ],
   "source": [
    "df.nlargest(10,'count')"
   ]
  },
  {
   "cell_type": "code",
   "execution_count": null,
   "metadata": {},
   "outputs": [],
   "source": []
  }
 ],
 "metadata": {
  "kernelspec": {
   "display_name": "Python 3",
   "language": "python",
   "name": "python3"
  },
  "language_info": {
   "codemirror_mode": {
    "name": "ipython",
    "version": 3
   },
   "file_extension": ".py",
   "mimetype": "text/x-python",
   "name": "python",
   "nbconvert_exporter": "python",
   "pygments_lexer": "ipython3",
   "version": "3.8.5"
  }
 },
 "nbformat": 4,
 "nbformat_minor": 4
}
